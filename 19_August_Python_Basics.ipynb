{
 "cells": [
  {
   "cell_type": "code",
   "execution_count": 2,
   "id": "b3c7b042-2a8f-445d-89df-39054592a924",
   "metadata": {},
   "outputs": [
    {
     "data": {
      "text/plain": [
       "(40, 20)"
      ]
     },
     "execution_count": 2,
     "metadata": {},
     "output_type": "execute_result"
    }
   ],
   "source": [
    "# Declare two variables, `x` and `y`, and assign them integer values. Swap the\n",
    "# values of these variables without using any temporary variable.\n",
    "\n",
    "x = 20\n",
    "y = 40\n",
    "\n",
    "x, y = y,x\n",
    "\n",
    "x,y"
   ]
  },
  {
   "cell_type": "code",
   "execution_count": 3,
   "id": "226e2a5e-df4f-4d80-8539-e67969564209",
   "metadata": {},
   "outputs": [
    {
     "name": "stdin",
     "output_type": "stream",
     "text": [
      "Whats the length  20\n",
      "whats the width  24\n"
     ]
    },
    {
     "name": "stdout",
     "output_type": "stream",
     "text": [
      "the area of rectangle is 480\n"
     ]
    }
   ],
   "source": [
    "'''Create a program that calculates the area of a rectangle. Take the length and\n",
    "width as inputs from the user and store them in variables. Calculate and\n",
    "display the area.\n",
    "'''\n",
    "\n",
    "l = int(input(\"Whats the length \"))\n",
    "\n",
    "w = int(input(\"whats the width \"))\n",
    "\n",
    "area_rect = l * w\n",
    "\n",
    "print(f\"the area of rectangle is {area_rect}\")"
   ]
  },
  {
   "cell_type": "code",
   "execution_count": 4,
   "id": "e5da886c-95d5-4b8c-a244-e5c0ceae9b1a",
   "metadata": {},
   "outputs": [
    {
     "name": "stdin",
     "output_type": "stream",
     "text": [
      "what's the temprature in celsius  32\n"
     ]
    },
    {
     "name": "stdout",
     "output_type": "stream",
     "text": [
      "the temprature in Fahrenheit is 89.6°F\n"
     ]
    }
   ],
   "source": [
    "# Write a Python program that converts temperatures from Celsius to\n",
    "# Fahrenheit. Take the temperature in Celsius as input, store it in a variable,\n",
    "# convert it to Fahrenheit, and display the result.\n",
    "\n",
    "temp_c = int(input(\"what's the temprature in celsius \"))\n",
    "\n",
    "temp_f = temp_c*(9/5)+32\n",
    "\n",
    "print(f\"the temprature in Fahrenheit is {temp_f}°F\")"
   ]
  },
  {
   "cell_type": "code",
   "execution_count": 5,
   "id": "99a9f947-ed5c-4582-8843-452afbddf028",
   "metadata": {},
   "outputs": [
    {
     "name": "stdin",
     "output_type": "stream",
     "text": [
      "enter your string here:  Harsh\n"
     ]
    },
    {
     "name": "stdout",
     "output_type": "stream",
     "text": [
      "the length of your word is 5\n"
     ]
    }
   ],
   "source": [
    "# 1. Write a Python program that takes a string as input and prints the length of\n",
    "# the string.\n",
    "\n",
    "word = input(\"enter your string here: \")\n",
    "\n",
    "len_word = len(word)\n",
    "\n",
    "print(f\"the length of your word is {len_word}\")"
   ]
  },
  {
   "cell_type": "code",
   "execution_count": 6,
   "id": "cedb9743-ec29-4ec7-b6e7-80ea14cdb0da",
   "metadata": {},
   "outputs": [
    {
     "name": "stdin",
     "output_type": "stream",
     "text": [
      "Enter your string here:  HARSH\n"
     ]
    },
    {
     "name": "stdout",
     "output_type": "stream",
     "text": [
      "HSRAH\n"
     ]
    }
   ],
   "source": [
    "# 3. Given a string, reverse the order of characters using string slicing and print\n",
    "# the reversed string.\n",
    "\n",
    "word = input(\"Enter your string here: \")\n",
    "\n",
    "rev_word= word[::-1]\n",
    "\n",
    "print(rev_word)"
   ]
  },
  {
   "cell_type": "code",
   "execution_count": 8,
   "id": "2d34d896-17ec-4613-82ac-0bd1f63263de",
   "metadata": {},
   "outputs": [
    {
     "name": "stdin",
     "output_type": "stream",
     "text": [
      "Enter your word here:  madam\n"
     ]
    },
    {
     "name": "stdout",
     "output_type": "stream",
     "text": [
      "Yes it is a palindrome number\n"
     ]
    }
   ],
   "source": [
    "# 4. Write a program that takes a string as input and checks if it is a palindrome\n",
    "# (reads the same forwards and backwards).\n",
    "\n",
    "word = input(\"Enter your word here: \")\n",
    "\n",
    "rev_word= word[::-1]\n",
    "\n",
    "if word == rev_word:\n",
    "    print(\"Yes it is a palindrome number\")\n",
    "\n",
    "else:\n",
    "    print(\"no it is not a palindrome number \")"
   ]
  },
  {
   "cell_type": "code",
   "execution_count": 9,
   "id": "090b3d31-08b0-49b1-82b5-afb9cfd662d4",
   "metadata": {},
   "outputs": [
    {
     "name": "stdin",
     "output_type": "stream",
     "text": [
      "Enter your word here:  harsh is a good boy\n"
     ]
    },
    {
     "name": "stdout",
     "output_type": "stream",
     "text": [
      "harshisagoodboy\n"
     ]
    }
   ],
   "source": [
    "# 5. Create a program that takes a string as input and removes all the spaces from\n",
    "# it. Print the modified string without spaces.\n",
    "\n",
    "word = input(\"Enter your word here: \")\n",
    "\n",
    "new_word = word.replace(\" \",\"\")\n",
    "\n",
    "print(new_word)"
   ]
  },
  {
   "cell_type": "code",
   "execution_count": 4,
   "id": "797a7a98-a587-419d-b225-0c4a46e622a7",
   "metadata": {},
   "outputs": [
    {
     "name": "stdin",
     "output_type": "stream",
     "text": [
      "Enter string: Hello\n"
     ]
    },
    {
     "name": "stdout",
     "output_type": "stream",
     "text": [
      "Number of vowels are:2\n"
     ]
    }
   ],
   "source": [
    "# Create a program that takes a sentence from the user and counts the number\n",
    "# of vowels (a, e, i, o, u) in the string.\n",
    "\n",
    "string=input(\"Enter string:\")\n",
    "vowels=0\n",
    "for i in string:\n",
    "      if(i=='a' or i=='e' or i=='i' or i=='o' or i=='u' or i=='A' or i=='E' or i=='I' or i=='O' or i=='U'):\n",
    "            vowels=vowels+1\n",
    "print(f\"Number of vowels are:{vowels}\")"
   ]
  },
  {
   "cell_type": "code",
   "execution_count": null,
   "id": "28cdc5f2-430f-4811-ac34-703ffdb2bfcf",
   "metadata": {},
   "outputs": [],
   "source": []
  }
 ],
 "metadata": {
  "kernelspec": {
   "display_name": "Python 3 (ipykernel)",
   "language": "python",
   "name": "python3"
  },
  "language_info": {
   "codemirror_mode": {
    "name": "ipython",
    "version": 3
   },
   "file_extension": ".py",
   "mimetype": "text/x-python",
   "name": "python",
   "nbconvert_exporter": "python",
   "pygments_lexer": "ipython3",
   "version": "3.10.8"
  }
 },
 "nbformat": 4,
 "nbformat_minor": 5
}
